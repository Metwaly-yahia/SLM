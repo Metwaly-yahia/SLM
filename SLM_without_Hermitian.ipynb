{
  "cells": [
    {
      "cell_type": "code",
      "execution_count": null,
      "metadata": {
        "colab": {
          "base_uri": "https://localhost:8080/"
        },
        "id": "9vEXhvG5n0lp",
        "outputId": "8f525be2-b341-4901-f4a4-69fbaace1a65"
      },
      "outputs": [
        {
          "output_type": "stream",
          "name": "stdout",
          "text": [
            "Looking in indexes: https://pypi.org/simple, https://us-python.pkg.dev/colab-wheels/public/simple/\n",
            "Requirement already satisfied: scikit-commpy in /usr/local/lib/python3.7/dist-packages (0.7.0)\n",
            "Requirement already satisfied: matplotlib in /usr/local/lib/python3.7/dist-packages (from scikit-commpy) (3.2.2)\n",
            "Requirement already satisfied: numpy in /usr/local/lib/python3.7/dist-packages (from scikit-commpy) (1.21.6)\n",
            "Requirement already satisfied: sympy in /usr/local/lib/python3.7/dist-packages (from scikit-commpy) (1.7.1)\n",
            "Requirement already satisfied: scipy in /usr/local/lib/python3.7/dist-packages (from scikit-commpy) (1.7.3)\n",
            "Requirement already satisfied: cycler>=0.10 in /usr/local/lib/python3.7/dist-packages (from matplotlib->scikit-commpy) (0.11.0)\n",
            "Requirement already satisfied: kiwisolver>=1.0.1 in /usr/local/lib/python3.7/dist-packages (from matplotlib->scikit-commpy) (1.4.4)\n",
            "Requirement already satisfied: pyparsing!=2.0.4,!=2.1.2,!=2.1.6,>=2.0.1 in /usr/local/lib/python3.7/dist-packages (from matplotlib->scikit-commpy) (3.0.9)\n",
            "Requirement already satisfied: python-dateutil>=2.1 in /usr/local/lib/python3.7/dist-packages (from matplotlib->scikit-commpy) (2.8.2)\n",
            "Requirement already satisfied: typing-extensions in /usr/local/lib/python3.7/dist-packages (from kiwisolver>=1.0.1->matplotlib->scikit-commpy) (4.1.1)\n",
            "Requirement already satisfied: six>=1.5 in /usr/local/lib/python3.7/dist-packages (from python-dateutil>=2.1->matplotlib->scikit-commpy) (1.15.0)\n",
            "Requirement already satisfied: mpmath>=0.19 in /usr/local/lib/python3.7/dist-packages (from sympy->scikit-commpy) (1.2.1)\n"
          ]
        }
      ],
      "source": [
        "! pip install scikit-commpy"
      ]
    },
    {
      "cell_type": "code",
      "execution_count": null,
      "metadata": {
        "id": "SQarkUW6n4PR"
      },
      "outputs": [],
      "source": [
        "def Hermitian(matrix):\n",
        "    [raws,columns]=matrix.shape\n",
        "    conjec= np.zeros((raws,columns), dtype=complex)\n",
        "    i=0\n",
        "    while i<columns:\n",
        "          conjec[:,i]=np.conj(matrix[:,i])\n",
        "          i+=1\n",
        "    reversed_conjec=conjec[-1::-1]\n",
        "    z = np.zeros((1,L)) \n",
        "    modulated_uncodeda=np.vstack(z)\n",
        "    modulated_uncodeda=np.vstack((modulated_uncodeda,matrix))\n",
        "    modulated_uncodedb=np.vstack((modulated_uncodeda,z))\n",
        "    Hermitian_Data=np.vstack((modulated_uncodedb,reversed_conjec))\n",
        "    return Hermitian_Data\n",
        "\n",
        "def PAPRformatrix(matrix):\n",
        "    [raws,columns]=matrix.shape\n",
        "    PAPR = np.zeros(columns)\n",
        "    PAPRdB = np.zeros(columns)\n",
        "    s=0\n",
        "    while s<columns:\n",
        "            max=np.max(matrix[:,s]*np.conj(matrix[:,s]))\n",
        "            mean=np.sum(matrix[:,s]*np.transpose(np.conj(matrix[:,s])))/len(matrix[:,s])\n",
        "            PAPR[s]=max/mean\n",
        "            PAPRdB[s]=10*np.log10(PAPR[s])\n",
        "            s+=1\n",
        "    return [PAPR,PAPRdB]\n",
        "\n",
        "def PAPRforcolumn(matrix):\n",
        "    raws=matrix.shape\n",
        "    PAPR = np.zeros(1)\n",
        "    PAPRdB = np.zeros(1)\n",
        "    max=np.max(matrix*np.conj(matrix))\n",
        "    mean=np.sum(matrix*(np.conj(matrix)))/len(matrix)\n",
        "    PAPR=max/mean\n",
        "    PAPRdB=10*np.log10(PAPR) \n",
        "    return [PAPR,PAPRdB]\n",
        "\n",
        "def IFFTformatrix(matrix):\n",
        "    [raws,columns]=matrix.shape\n",
        "    Data_ifft = np.zeros((raws,columns), dtype=complex)\n",
        "    p=0\n",
        "    while p<columns:\n",
        "          Data_ifft[:,p]= np.fft.ifft(matrix[:,p])\n",
        "          p+=1\n",
        "    return Data_ifft\n",
        "\n",
        "def matrixP2S(matrix):\n",
        "    [raws,columns]=matrix.shape\n",
        "    i = 0\n",
        "    s = 0\n",
        "    t = 0\n",
        "    serial_data = np.zeros((raws*columns), dtype=complex)\n",
        "    while i < columns:\n",
        "          k=0\n",
        "          while k < raws: \n",
        "                g=(matrix[k,i])\n",
        "                serial_data[t]=g\n",
        "                t+=1\n",
        "                k+=1\n",
        "          i+=1    \n",
        "    return serial_data\n",
        "\n",
        "def columnP2S(matrix):\n",
        "    [raws]=matrix.shape\n",
        "    i = 0\n",
        "    s = 0\n",
        "    t = 0\n",
        "    columns=1\n",
        "    serial_data = np.zeros((raws*columns), dtype=complex)\n",
        "    while i < columns:\n",
        "          k=0\n",
        "          while k < raws: \n",
        "                g=(matrix[k])\n",
        "                serial_data[t]=g\n",
        "                t+=1\n",
        "                k+=1\n",
        "          i+=1    \n",
        "    return serial_data\n",
        "\n",
        "def columnS2P(matrix):\n",
        "    [raws]=matrix.shape\n",
        "    i = 0\n",
        "    parallel_data = np.zeros((raws,1), dtype=complex)\n",
        "    while i < raws:\n",
        "          g=(matrix[i])\n",
        "          parallel_data[i,0]=g\n",
        "          i+=1    \n",
        "    return parallel_data\n",
        "\n",
        "\n",
        "def CP(matrix,length_of_CP):\n",
        "    [raws,columns]=matrix.shape\n",
        "    CP = matrix[raws-length_of_CP:raws,:]\n",
        "    Data_CP = np.vstack((CP, matrix))\n",
        "    return Data_CP\n",
        "\n",
        "def CPpercolumn(matrix,length_of_CP):\n",
        "    raws=matrix.shape\n",
        "    CP = matrix[raws-length_of_CP:raws]\n",
        "    Data_CP = np.vstack((CP, matrix))\n",
        "    return Data_CP\n",
        "\n",
        "def matrixneededshape(matrix,raws,columns):\n",
        "    mat= np.zeros((raws,columns), dtype=complex)\n",
        "    i=0\n",
        "    t=0\n",
        "    while i<columns:\n",
        "          k=0\n",
        "          while k<raws:\n",
        "                g=matrix[t]\n",
        "                mat[k,i]=g\n",
        "                t+=1            \n",
        "                k+=1\n",
        "          i+=1\n",
        "    return mat\n",
        "\n",
        "def complex_ortho_matrix(raws,columns):\n",
        "    h=np.array([1, -1, 1j, -1j])\n",
        "    Ortho=np.zeros((raws,columns), dtype=complex)   #initialization\n",
        "    l=0\n",
        "    while l<N:\n",
        "          Ortho[l]=np.random.choice(h,columns)\n",
        "          l+=1\n",
        "    return Ortho \n",
        "\n",
        "def find(element, matrix):\n",
        "    for i in range(len(matrix)):\n",
        "        for j in range(len(matrix[i])):\n",
        "            if matrix[i][j] == element:\n",
        "               return (i, j)\n",
        "            else: return(\"NOT FOUND\")\n",
        "\n",
        "def comp2real(matrix):\n",
        " NN=matrix.shape[0]\n",
        " L=matrix.shape[1]\n",
        " NN_data=np.zeros((2*NN,L))\n",
        " for i in range(L):\n",
        "   row=-1\n",
        "   for j in range(NN):\n",
        "     row=row+1\n",
        "     NN_data[row,i]=matrix[j,i].real\n",
        "     row=row+1\n",
        "     NN_data[row,i]=matrix[j,i].imag\n",
        " return NN_data"
      ]
    },
    {
      "cell_type": "code",
      "execution_count": null,
      "metadata": {
        "id": "ZFQQRWi0n7HB"
      },
      "outputs": [],
      "source": [
        "#Data\n",
        "import numpy as np\n",
        "import commpy.channelcoding.convcode as cc\n",
        "import commpy.modulation as modulation\n",
        "import numpy as np\n",
        "N= 64   #FFT size, nFFT\n",
        "NN=(N-4)/2   #Number of subcarriers of needed data (-4)=2 of CP+2 zeros of Hermatian ,and (/2) for doubling happen in Hermition\n",
        "L= 1000   #number of time slots\n",
        "M = 4   #modulation order (QPSK)\n",
        "K = int(np.log2(M))   #number of bit per modulation symbol\n",
        "c_p=2\n",
        "Data1 = np.random.randint(2,size=(K*N*L))\n",
        "#print(Data1)\n",
        "#print(Data1.shape)\n",
        "NN_Data=matrixneededshape(Data1,2*N,L)\n"
      ]
    },
    {
      "cell_type": "code",
      "source": [
        "NN_Data=NN_Data.real"
      ],
      "metadata": {
        "id": "ww88BAaPpkTl"
      },
      "execution_count": null,
      "outputs": []
    },
    {
      "cell_type": "code",
      "source": [
        "print(NN_Data.shape)\n",
        "print(NN_Data)"
      ],
      "metadata": {
        "colab": {
          "base_uri": "https://localhost:8080/"
        },
        "id": "xrR_yBWqmUxI",
        "outputId": "c8407324-db86-4b9d-dfd1-075e7bb25444"
      },
      "execution_count": null,
      "outputs": [
        {
          "output_type": "stream",
          "name": "stdout",
          "text": [
            "(128, 1000)\n",
            "[[1. 1. 1. ... 0. 1. 1.]\n",
            " [1. 0. 1. ... 1. 0. 0.]\n",
            " [0. 1. 0. ... 0. 0. 0.]\n",
            " ...\n",
            " [0. 1. 1. ... 1. 0. 0.]\n",
            " [1. 0. 1. ... 0. 0. 1.]\n",
            " [1. 1. 1. ... 1. 1. 0.]]\n"
          ]
        }
      ]
    },
    {
      "cell_type": "code",
      "execution_count": null,
      "metadata": {
        "id": "keQbvZUeoC99"
      },
      "outputs": [],
      "source": [
        "#modulation from commpy library\n",
        "modem = modulation.QAMModem(M)   # M-PSK modem initialization\n",
        "modulated_uncoded = modem.modulate(Data1)\n",
        "#print(modulated_uncoded)"
      ]
    },
    {
      "cell_type": "code",
      "execution_count": null,
      "metadata": {
        "colab": {
          "base_uri": "https://localhost:8080/"
        },
        "id": "_geBwbQfoFb2",
        "outputId": "0fe03da0-d51f-44ca-a12a-831324348983"
      },
      "outputs": [
        {
          "output_type": "stream",
          "name": "stdout",
          "text": [
            "(64, 1000)\n"
          ]
        }
      ],
      "source": [
        "#shape of needed signal\n",
        "Data = matrixneededshape(modulated_uncoded,N,L)\n",
        "print(Data.shape)"
      ]
    },
    {
      "cell_type": "code",
      "execution_count": null,
      "metadata": {
        "colab": {
          "base_uri": "https://localhost:8080/"
        },
        "id": "-EeT7Mo4oOTb",
        "outputId": "29bce35d-6b74-49a9-e077-747613f1e813"
      },
      "outputs": [
        {
          "output_type": "stream",
          "name": "stderr",
          "text": [
            "/usr/local/lib/python3.7/dist-packages/ipykernel_launcher.py:27: ComplexWarning: Casting complex values to real discards the imaginary part\n",
            "/usr/local/lib/python3.7/dist-packages/ipykernel_launcher.py:24: ComplexWarning: Casting complex values to real discards the imaginary part\n"
          ]
        }
      ],
      "source": [
        "from scipy.linalg import hadamard\n",
        "from scipy.stats import ortho_group\n",
        "U=64  #number of phases\n",
        "PAPRdB2 = np.zeros(L)   #initialization \n",
        "PAPRdBforeverytimeslot = np.zeros(U)   #initialization\n",
        "TXMATRIX = np.zeros((N,L), dtype=complex)   #initialization \n",
        "transmiting_signal1 = np.zeros((N,L), dtype=complex)   #initialization\n",
        "phases= np.zeros((L), dtype=int)   #initialization \n",
        "Hadamard= np.zeros((N,N), dtype=int)   #initialization\n",
        "neededHadamard= np.zeros((N,L), dtype=int)   #initialization\n",
        "Data_Had= np.zeros((N,U), dtype=complex)   #initialization\n",
        "Tx_Data= np.zeros((N,L), dtype=complex)   #initialization\n",
        "data_final= np.zeros((N,U), dtype=complex)   #initialization\n",
        "Hadamard=hadamard(N, dtype=int)   #hadamard generation\n",
        "#Hadamard=ortho_group.rvs(dim=N)   #Orthognal phases generation function\n",
        "#Hadamard=complex_ortho_matrix(N,U)\n",
        "phase_for_each_symbol=np.zeros((N,L), dtype=complex)\n",
        "\n",
        "\n",
        "t=0   #initialization\n",
        "while t<L:   #counter per columns of data\n",
        "      i=0   #initialization\n",
        "      while i<U:   #counter per columns of Hadamard\n",
        "            Data_Had[:,i]=Data[:,t]*Hadamard[:,i]   #element wise multiplication \n",
        "            data_final[:,i] = np.fft.ifft(Data_Had[:,i])   #IFFT\n",
        "            [PAPR,PAPRdB] = PAPRforcolumn(data_final[:,i])   #PAPR calculation\n",
        "            PAPRdBforeverytimeslot[i]=PAPRdB   #list PAPR values for diffrent phases\n",
        "            i+=1 \n",
        "\n",
        "      MinimumPAPR=np.min(PAPRdBforeverytimeslot)   #take the minimum PAPR value in PAPRdBforeverytimeslot array\n",
        "      needed_Column=0   #initialization\n",
        "      #loop to determined phase gives us the minimum PAPR\n",
        "      while needed_Column<U:   \n",
        "            if PAPRdBforeverytimeslot[needed_Column] == np.min(MinimumPAPR):\n",
        "               FF=needed_Column   #phase gives us the minimum PAPR\n",
        "            needed_Column+=1\n",
        "\n",
        "      transmiting_signal1[:,t]= data_final[:,FF]   #Data after phases and IFFT \n",
        "      phases[t] = FF   #needed phases row\n",
        "      PAPRdB2[t]=PAPRdBforeverytimeslot[FF]   #record the minimum PAPR values for every column in data\n",
        "      phase_for_each_symbol[:,t] = Hadamard[:,FF]\n",
        "      t+=1\n",
        "      \n",
        "transmiting_signal=np.vstack((transmiting_signal1,phases))   #adding phases raw to the TX data\n",
        "\n",
        "              #####PAPR for Data without SLM reduction technique#####\n",
        "data_final2 = IFFTformatrix(Data)   #IFFT\n",
        "[PAPR,PAPRdB]=PAPRformatrix(data_final2)   #PAPR\n",
        "#print(PAPR)\n"
      ]
    },
    {
      "cell_type": "code",
      "execution_count": null,
      "metadata": {
        "id": "rEU2H5YT1RZ9",
        "colab": {
          "base_uri": "https://localhost:8080/",
          "height": 330
        },
        "outputId": "b1b576ec-d74b-4b82-aa9e-96d9293edd44"
      },
      "outputs": [
        {
          "output_type": "stream",
          "name": "stdout",
          "text": [
            "(64, 1000)\n"
          ]
        },
        {
          "output_type": "execute_result",
          "data": {
            "text/plain": [
              "<matplotlib.legend.Legend at 0x7fe8035f2c10>"
            ]
          },
          "metadata": {},
          "execution_count": 17
        },
        {
          "output_type": "display_data",
          "data": {
            "text/plain": [
              "<Figure size 432x288 with 1 Axes>"
            ],
            "image/png": "[encoded data removed]"
          },
          "metadata": {
            "needs_background": "light"
          }
        }
      ],
      "source": [
        "print(Data.shape)\n",
        "#CCDF drawing\n",
        "import matplotlib.pyplot as plt\n",
        "count, bins_count = np.histogram(PAPRdB,bins=1000000,range=(0,15))\n",
        "cdf = np.cumsum(count)/L\n",
        "#plt.plot(bins_count[:], cdf, label=\"CDF\")\n",
        "plt.plot(bins_count[1:], (1-cdf), label=\"Orignal\")\n",
        "plt.legend()\n",
        "plt.yscale('log')\n",
        "plt.ylim(10**-4,10**0)\n",
        "plt.xlim(1,13)\n",
        "plt.xlabel('PAPR[dB]')\n",
        "plt.ylabel('CCDF')\n",
        "plt.title('TR PAPR simulation')\n",
        "#CCDF drawing\n",
        "import matplotlib.pyplot as plt\n",
        "count, bins_count = np.histogram(PAPRdB2,bins=1000000,range=(0,15))\n",
        "cdf = np.cumsum(count)/L\n",
        "#plt.plot(bins_count[1:], cdf, label=\"CDF\")   #draw CDF\n",
        "plt.plot(bins_count[1:], (1-cdf), label='SLM U= '+str(U))   #draw CCDF\n",
        "plt.legend()"
      ]
    }
  ],
  "metadata": {
    "colab": {
      "collapsed_sections": [],
      "name": "SLM_without_Hermitian.ipynb",
      "provenance": []
    },
    "kernelspec": {
      "display_name": "Python 3",
      "name": "python3"
    },
    "language_info": {
      "name": "python"
    }
  },
  "nbformat": 4,
  "nbformat_minor": 0
}