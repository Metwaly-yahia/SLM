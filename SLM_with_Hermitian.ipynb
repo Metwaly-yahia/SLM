{
  "nbformat": 4,
  "nbformat_minor": 0,
  "metadata": {
    "colab": {
      "name": "SLM_with_Hermitian.ipynb",
      "provenance": [],
      "collapsed_sections": []
    },
    "kernelspec": {
      "name": "python3",
      "display_name": "Python 3"
    },
    "language_info": {
      "name": "python"
    }
  },
  "cells": [
    {
      "cell_type": "code",
      "source": [
        "! pip install scikit-commpy"
      ],
      "metadata": {
        "colab": {
          "base_uri": "https://localhost:8080/"
        },
        "id": "OF3i6LoiYxvI",
        "outputId": "32156433-2585-4440-908e-536d9c3b44eb"
      },
      "execution_count": null,
      "outputs": [
        {
          "output_type": "stream",
          "name": "stdout",
          "text": [
            "Collecting scikit-commpy\n",
            "  Downloading scikit-commpy-0.7.0.tar.gz (52 kB)\n",
            "\u001b[?25l\r\u001b[K     |██████▎                         | 10 kB 21.1 MB/s eta 0:00:01\r\u001b[K     |████████████▋                   | 20 kB 18.5 MB/s eta 0:00:01\r\u001b[K     |██████████████████▉             | 30 kB 11.6 MB/s eta 0:00:01\r\u001b[K     |█████████████████████████▏      | 40 kB 9.9 MB/s eta 0:00:01\r\u001b[K     |███████████████████████████████▍| 51 kB 5.6 MB/s eta 0:00:01\r\u001b[K     |████████████████████████████████| 52 kB 707 kB/s \n",
            "\u001b[?25hRequirement already satisfied: numpy in /usr/local/lib/python3.7/dist-packages (from scikit-commpy) (1.21.5)\n",
            "Requirement already satisfied: scipy in /usr/local/lib/python3.7/dist-packages (from scikit-commpy) (1.4.1)\n",
            "Requirement already satisfied: matplotlib in /usr/local/lib/python3.7/dist-packages (from scikit-commpy) (3.2.2)\n",
            "Requirement already satisfied: sympy in /usr/local/lib/python3.7/dist-packages (from scikit-commpy) (1.7.1)\n",
            "Requirement already satisfied: python-dateutil>=2.1 in /usr/local/lib/python3.7/dist-packages (from matplotlib->scikit-commpy) (2.8.2)\n",
            "Requirement already satisfied: pyparsing!=2.0.4,!=2.1.2,!=2.1.6,>=2.0.1 in /usr/local/lib/python3.7/dist-packages (from matplotlib->scikit-commpy) (3.0.7)\n",
            "Requirement already satisfied: kiwisolver>=1.0.1 in /usr/local/lib/python3.7/dist-packages (from matplotlib->scikit-commpy) (1.3.2)\n",
            "Requirement already satisfied: cycler>=0.10 in /usr/local/lib/python3.7/dist-packages (from matplotlib->scikit-commpy) (0.11.0)\n",
            "Requirement already satisfied: six>=1.5 in /usr/local/lib/python3.7/dist-packages (from python-dateutil>=2.1->matplotlib->scikit-commpy) (1.15.0)\n",
            "Requirement already satisfied: mpmath>=0.19 in /usr/local/lib/python3.7/dist-packages (from sympy->scikit-commpy) (1.2.1)\n",
            "Building wheels for collected packages: scikit-commpy\n",
            "  Building wheel for scikit-commpy (setup.py) ... \u001b[?25l\u001b[?25hdone\n",
            "  Created wheel for scikit-commpy: filename=scikit_commpy-0.7.0-py3-none-any.whl size=58556 sha256=5bc690e383ee8b3ca4ce7fb208272a9512ce9498b380f81b42ad8765515ed8d0\n",
            "  Stored in directory: /root/.cache/pip/wheels/52/2a/a2/2daff6a2d5e3b96d70fb03e5b0699ce70c98cb4c00c8107c38\n",
            "Successfully built scikit-commpy\n",
            "Installing collected packages: scikit-commpy\n",
            "Successfully installed scikit-commpy-0.7.0\n"
          ]
        }
      ]
    },
    {
      "cell_type": "code",
      "source": [
        "def Hermitian(matrix):\n",
        "    [raws,columns]=matrix.shape\n",
        "    conjec= np.zeros((raws,columns), dtype=complex)\n",
        "    i=0\n",
        "    while i<columns:\n",
        "          conjec[:,i]=np.conj(matrix[:,i])\n",
        "          i+=1\n",
        "    reversed_conjec=conjec[-1::-1]\n",
        "    z = np.zeros((1,L)) \n",
        "    modulated_uncodeda=np.vstack(z)\n",
        "    modulated_uncodeda=np.vstack((modulated_uncodeda,matrix))\n",
        "    modulated_uncodedb=np.vstack((modulated_uncodeda,z))\n",
        "    Hermitian_Data=np.vstack((modulated_uncodedb,reversed_conjec))\n",
        "    return Hermitian_Data\n",
        "\n",
        "def PAPRformatrix(matrix):\n",
        "    [raws,columns]=matrix.shape\n",
        "    PAPR = np.zeros(columns)\n",
        "    PAPRdB = np.zeros(columns)\n",
        "    s=0\n",
        "    while s<columns:\n",
        "            max=np.max(matrix[:,s]*np.conj(matrix[:,s]))\n",
        "            mean=np.sum(matrix[:,s]*np.transpose(np.conj(matrix[:,s])))/len(matrix[:,s])\n",
        "            PAPR[s]=max/mean\n",
        "            PAPRdB[s]=10*np.log10(PAPR[s])\n",
        "            s+=1\n",
        "    return [PAPR,PAPRdB]\n",
        "\n",
        "def PAPRforcolumn(matrix):\n",
        "    raws=matrix.shape\n",
        "    PAPR = np.zeros(1)\n",
        "    PAPRdB = np.zeros(1)\n",
        "    max=np.max(matrix*np.conj(matrix))\n",
        "    mean=np.sum(matrix*np.transpose(np.conj(matrix)))/len(matrix)\n",
        "    PAPR=max/mean\n",
        "    PAPRdB=10*np.log10(PAPR) \n",
        "    return [PAPR,PAPRdB]\n",
        "\n",
        "def IFFTformatrix(matrix):\n",
        "    [raws,columns]=matrix.shape\n",
        "    Data_ifft = np.zeros((N,L), dtype=complex)\n",
        "    p=0\n",
        "    while p<columns:\n",
        "          Data_ifft[:,p]= np.fft.ifft(matrix[:,p])\n",
        "          p+=1\n",
        "    return Data_ifft\n",
        "\n",
        "def matrixS2P(matrix):\n",
        "    [raws,columns]=matrix.shape\n",
        "    i = 0\n",
        "    s = 0\n",
        "    t = 0\n",
        "    serial_data = np.zeros(((N+c_p)*L), dtype=complex)\n",
        "    while i < columns:\n",
        "          k=0\n",
        "          while k < raws: \n",
        "                g=(matrix[k,i])\n",
        "                serial_data[t]=g\n",
        "                t+=1\n",
        "                k+=1\n",
        "          i+=1    \n",
        "    return serial_data\n",
        "\n",
        "def CP(matrix,length_of_CP):\n",
        "    [raws,columns]=matrix.shape\n",
        "    CP = matrix[raws-length_of_CP:raws,:]\n",
        "    Data_CP = np.vstack((CP, matrix))\n",
        "    return Data_CP\n",
        "\n",
        "def CPpercolumn(matrix,length_of_CP):\n",
        "    raws=matrix.shape\n",
        "    CP = matrix[raws-length_of_CP:raws]\n",
        "    Data_CP = np.vstack((CP, matrix))\n",
        "    return Data_CP\n",
        "\n",
        "def matrixneededshape(raws,columns):\n",
        "    mat= np.zeros((raws,columns), dtype=complex)\n",
        "    i=0\n",
        "    t=0\n",
        "    while i<columns:\n",
        "          k=0\n",
        "          while k<raws:\n",
        "                g=modulated_uncoded[t]\n",
        "                mat[k,i]=g\n",
        "                t+=1            \n",
        "                k+=1\n",
        "          i+=1\n",
        "    return mat\n",
        "\n",
        "def complex_ortho_matrix(raws,columns):\n",
        "    h=np.array([1, -1, 1j, -1j])\n",
        "    Ortho=np.zeros((raws,columns), dtype=complex)   #initialization\n",
        "    l=0\n",
        "    while l<N:\n",
        "          Ortho[l]=np.random.choice(h,columns)\n",
        "          l+=1\n",
        "    return Ortho "
      ],
      "metadata": {
        "id": "Ulg1B3hZY7N7"
      },
      "execution_count": null,
      "outputs": []
    },
    {
      "cell_type": "code",
      "execution_count": null,
      "metadata": {
        "colab": {
          "base_uri": "https://localhost:8080/"
        },
        "id": "jOZGG9tGYwLT",
        "outputId": "68bf72c1-247d-4d9f-fce9-cd607424b378"
      },
      "outputs": [
        {
          "output_type": "stream",
          "name": "stdout",
          "text": [
            "(10220000,)\n"
          ]
        }
      ],
      "source": [
        "#Data\n",
        "import numpy as np\n",
        "import commpy.channelcoding.convcode as cc\n",
        "import commpy.modulation as modulation\n",
        "import numpy as np\n",
        "N= 1024   #FFT size, nFFT\n",
        "NN=int((N-2)/2)   #Number of subcarriers of needed data (-2)= 2 zeros raws of Hermatian ,and (/2) for doubling happen in Hermition.\n",
        "L= 10000   #number of time slots\n",
        "M = 4   #modulation order (QPSK)\n",
        "K = int(np.log2(M))   #number of bit per modulation symbol\n",
        "c_p=2\n",
        "Data1 = np.random.randint(2,size=(K*NN*L))\n",
        "#print(Data1)\n",
        "print(Data1.shape)"
      ]
    },
    {
      "cell_type": "code",
      "source": [
        "#modulation from commpy library\n",
        "modem = modulation.PSKModem(M)   # M-PSK modem initialization\n",
        "modulated_uncoded = modem.modulate(Data1)\n",
        "print(modulated_uncoded.shape)"
      ],
      "metadata": {
        "colab": {
          "base_uri": "https://localhost:8080/"
        },
        "id": "HVZzc0vgY0ZJ",
        "outputId": "ecb58ee6-7ea9-4b52-f5f2-01613a1c441d"
      },
      "execution_count": null,
      "outputs": [
        {
          "output_type": "stream",
          "name": "stdout",
          "text": [
            "(5110000,)\n"
          ]
        }
      ]
    },
    {
      "cell_type": "code",
      "source": [
        "#shape of needed signal\n",
        "Data2 = matrixneededshape(NN,L)\n",
        "print(Data2.shape)"
      ],
      "metadata": {
        "colab": {
          "base_uri": "https://localhost:8080/"
        },
        "id": "yH3XVIGeY3wk",
        "outputId": "5b1e7cec-92b3-49c3-c3bd-fddd327e9476"
      },
      "execution_count": null,
      "outputs": [
        {
          "output_type": "stream",
          "name": "stdout",
          "text": [
            "(511, 10000)\n"
          ]
        }
      ]
    },
    {
      "cell_type": "code",
      "source": [
        "Data=Hermitian(Data2)\n",
        "print(Data.shape)"
      ],
      "metadata": {
        "colab": {
          "base_uri": "https://localhost:8080/"
        },
        "id": "cMrPSB0KZNSP",
        "outputId": "497fca8e-07c7-4c94-d961-688783e188e0"
      },
      "execution_count": null,
      "outputs": [
        {
          "output_type": "stream",
          "name": "stdout",
          "text": [
            "(1024, 10000)\n"
          ]
        }
      ]
    },
    {
      "cell_type": "code",
      "source": [
        "from scipy.linalg import hadamard\n",
        "from scipy.stats import ortho_group\n",
        "U=16  #number of phases\n",
        "PAPRdB2 = np.zeros(L)   #initialization \n",
        "PAPRdBforeverytimeslot = np.zeros(U)   #initialization\n",
        "TXMATRIX = np.zeros((N,L), dtype=complex)   #initialization \n",
        "transmiting_signal1 = np.zeros((N,L), dtype=complex)   #initialization\n",
        "phases= np.zeros((L), dtype=int)   #initialization \n",
        "Hadamard= np.zeros((N,N), dtype=int)   #initialization\n",
        "neededHadamard= np.zeros((N,L), dtype=int)   #initialization\n",
        "Data_Had= np.zeros((N,U), dtype=complex)   #initialization\n",
        "Tx_Data= np.zeros((N,L), dtype=complex)   #initialization\n",
        "data_final= np.zeros((N,U), dtype=complex)   #initialization\n",
        "#Hadamard=hadamard(N, dtype=complex)   #hadamard generation\n",
        "#Hadamard=ortho_group.rvs(dim=N)   #Orthognal phases generation function\n",
        "Hadamard=complex_ortho_matrix(N,U)\n",
        "\n",
        "t=0   #initialization\n",
        "while t<L:   #counter per columns of data\n",
        "      i=0   #initialization\n",
        "      while i<U:   #counter per columns of Hadamard    \n",
        "            Data_Had[:,i]=Data[:,t]*Hadamard[:,i]   #element wise multiplication \n",
        "            data_final[:,i] = np.fft.ifft(Data_Had[:,i])   #IFFT \n",
        "            [PAPR,PAPRdB] = PAPRforcolumn(data_final[:,i])   #PAPR calculation\n",
        "            PAPRdBforeverytimeslot[i]=PAPRdB   #list PAPR values for diffrent phases \n",
        "            i+=1 \n",
        "\n",
        "      MinimumPAPR=np.min(PAPRdBforeverytimeslot)   #take the minimum PAPR value in PAPRdBforeverytimeslot array\n",
        "      needed_Column=0   #initialization\n",
        "      #loop to determined phase gives us the minimum PAPR\n",
        "      while needed_Column<U:   \n",
        "            if PAPRdBforeverytimeslot[needed_Column] == np.min(MinimumPAPR):\n",
        "               FF=needed_Column   #phase gives us the minimum PAPR\n",
        "            needed_Column+=1\n",
        "\n",
        "      transmiting_signal1[:,t]= data_final[:,FF]   #Data after phases and IFFT \n",
        "      phases[t] = FF   #needed phases row\n",
        "      PAPRdB2[t]=PAPRdBforeverytimeslot[FF]   #record the minimum PAPR values for every column in data\n",
        "      t+=1\n",
        "\n",
        "transmiting_signal=np.vstack((transmiting_signal1,phases))   #adding phases raw to the TX data\n",
        "\n",
        "#CCDF drawing\n",
        "import matplotlib.pyplot as plt\n",
        "count, bins_count = np.histogram(PAPRdB2,bins=1000000,range=(0,15))\n",
        "cdf = np.cumsum(count)/L\n",
        "#plt.plot(bins_count[1:], cdf, label=\"CDF\")   #draw CDF\n",
        "plt.plot(bins_count[1:], (1-cdf), label='SLM U= '+str(U))   #draw CCDF\n",
        "plt.legend()\n",
        "\n",
        "              #####PAPR for Data without SLM reduction technique#####\n",
        "data_final2 = IFFTformatrix(Data)   #IFFT\n",
        "[PAPR,PAPRdB]=PAPRformatrix(data_final2)   #PAPR\n",
        "\n",
        "#CCDF drawing\n",
        "import matplotlib.pyplot as plt\n",
        "count, bins_count = np.histogram(PAPRdB,bins=1000000,range=(0,15))\n",
        "cdf = np.cumsum(count)/L\n",
        "#plt.plot(bins_count[:], cdf, label=\"CDF\")\n",
        "plt.plot(bins_count[1:], (1-cdf), label=\"Orignal\")\n",
        "plt.legend()\n",
        "plt.yscale('log')\n",
        "plt.ylim(10**-4,10**0)\n",
        "plt.xlim(4,16)\n",
        "plt.xlabel('PAPR[dB]')\n",
        "plt.ylabel('CCDF')\n",
        "plt.title('SLM PAPR simulation')"
      ],
      "metadata": {
        "colab": {
          "base_uri": "https://localhost:8080/",
          "height": 347
        },
        "id": "_iaDS8HRZIUz",
        "outputId": "672f63fe-9311-4429-921e-6f2ef8507f92"
      },
      "execution_count": null,
      "outputs": [
        {
          "output_type": "stream",
          "name": "stderr",
          "text": [
            "/usr/local/lib/python3.7/dist-packages/ipykernel_launcher.py:25: ComplexWarning: Casting complex values to real discards the imaginary part\n",
            "/usr/local/lib/python3.7/dist-packages/ipykernel_launcher.py:24: ComplexWarning: Casting complex values to real discards the imaginary part\n"
          ]
        },
        {
          "output_type": "execute_result",
          "data": {
            "text/plain": [
              "Text(0.5, 1.0, 'SLM PAPR simulation')"
            ]
          },
          "metadata": {},
          "execution_count": 7
        },
        {
          "output_type": "display_data",
          "data": {
            "image/png": "[encoded data removed]",
            "text/plain": [
              "<Figure size 432x288 with 1 Axes>"
            ]
          },
          "metadata": {
            "needs_background": "light"
          }
        }
      ]
    }
  ]
}